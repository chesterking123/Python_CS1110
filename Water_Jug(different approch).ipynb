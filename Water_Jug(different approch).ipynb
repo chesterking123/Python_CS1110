{
 "cells": [
  {
   "cell_type": "code",
   "execution_count": null,
   "metadata": {},
   "outputs": [],
   "source": [
    "class water:\n",
    "    c=int()\n",
    "    d=int()\n",
    "    parent=int()"
   ]
  },
  {
   "cell_type": "code",
   "execution_count": 2,
   "metadata": {},
   "outputs": [],
   "source": [
    "obj={}"
   ]
  },
  {
   "cell_type": "code",
   "execution_count": 3,
   "metadata": {},
   "outputs": [],
   "source": [
    "global x\n",
    "x=0"
   ]
  },
  {
   "cell_type": "code",
   "execution_count": 4,
   "metadata": {},
   "outputs": [],
   "source": [
    "obj[x]=water()"
   ]
  },
  {
   "cell_type": "code",
   "execution_count": 5,
   "metadata": {},
   "outputs": [],
   "source": [
    "obj[x].c=0\n",
    "obj[x].d=0\n",
    "obj[x].parent=-1"
   ]
  },
  {
   "cell_type": "code",
   "execution_count": 6,
   "metadata": {},
   "outputs": [
    {
     "data": {
      "text/plain": [
       "{0: <__main__.water at 0x2ae6a181448>}"
      ]
     },
     "execution_count": 6,
     "metadata": {},
     "output_type": "execute_result"
    }
   ],
   "source": [
    "obj"
   ]
  },
  {
   "cell_type": "code",
   "execution_count": 7,
   "metadata": {},
   "outputs": [],
   "source": [
    "x=0"
   ]
  },
  {
   "cell_type": "code",
   "execution_count": 10,
   "metadata": {},
   "outputs": [
    {
     "name": "stdout",
     "output_type": "stream",
     "text": [
      "1\n",
      "6\n"
     ]
    }
   ],
   "source": [
    "visited=[[0,0]]\n",
    "n=0\n",
    "count=0\n",
    "while(True):\n",
    "    try:\n",
    "        if(count==1):\n",
    "            break\n",
    "        Fill_A(visited,n)\n",
    "        Fill_B(visited,n)\n",
    "        Empty_A(visited,n)\n",
    "        Empty_B(visited,n)\n",
    "        AtoB(visited,n)\n",
    "        BtoA(visited,n)\n",
    "        n=n+1\n",
    "    except:\n",
    "        count=count+1\n",
    "\n",
    "    "
   ]
  },
  {
   "cell_type": "code",
   "execution_count": 11,
   "metadata": {},
   "outputs": [
    {
     "data": {
      "text/plain": [
       "[[0, 0],\n",
       " [3, 0],\n",
       " [0, 4],\n",
       " [3, 4],\n",
       " [0, 3],\n",
       " [3, 1],\n",
       " [3, 3],\n",
       " [0, 1],\n",
       " [2, 4],\n",
       " [1, 0],\n",
       " [2, 0],\n",
       " [1, 4],\n",
       " [0, 2],\n",
       " [3, 2]]"
      ]
     },
     "execution_count": 11,
     "metadata": {},
     "output_type": "execute_result"
    }
   ],
   "source": [
    "visited"
   ]
  },
  {
   "cell_type": "code",
   "execution_count": 14,
   "metadata": {},
   "outputs": [
    {
     "name": "stdout",
     "output_type": "stream",
     "text": [
      "0 0 -1\n",
      "3 0 0\n",
      "0 4 0\n",
      "3 4 1\n",
      "0 3 1\n",
      "3 1 2\n",
      "3 3 4\n",
      "0 1 5\n",
      "2 4 6\n",
      "1 0 7\n",
      "2 0 8\n",
      "1 4 9\n",
      "0 2 10\n",
      "3 2 11\n"
     ]
    }
   ],
   "source": [
    "for i in range(14):\n",
    "    print(obj[i].c,obj[i].d,obj[i].parent)\n"
   ]
  },
  {
   "cell_type": "code",
   "execution_count": 9,
   "metadata": {},
   "outputs": [],
   "source": [
    "def Fill_A(visited,n):\n",
    "    global x\n",
    "    jug1=3\n",
    "    jug2=visited[n][1]\n",
    "    if [jug1,jug2] not in visited:\n",
    "        visited.append([jug1,jug2])\n",
    "        x=x+1\n",
    "        obj[x]=water()\n",
    "        obj[x].c=jug1\n",
    "        obj[x].d=jug2\n",
    "        obj[x].parent=n\n",
    "        \n",
    "        \n",
    "        \n",
    "        \n",
    "def Fill_B(visited,n):\n",
    "    global x\n",
    "    jug1=visited[n][0]\n",
    "    jug2=4\n",
    "    if [jug1,jug2] not in visited:\n",
    "        visited.append([jug1,jug2])\n",
    "        x=x+1\n",
    "        obj[x]=water()\n",
    "        obj[x].c=jug1\n",
    "        obj[x].d=jug2\n",
    "        obj[x].parent=n\n",
    "\n",
    "        \n",
    "\n",
    "\n",
    "def Empty_A(visited,n):\n",
    "    global x\n",
    "    jug1=0\n",
    "    jug2=visited[n][1]\n",
    "    if [jug1,jug2] not in visited:\n",
    "        visited.append([jug1,jug2])\n",
    "        x=x+1\n",
    "        obj[x]=water()\n",
    "        obj[x].c=jug1\n",
    "        obj[x].d=jug2\n",
    "        obj[x].parent=n\n",
    "\n",
    "\n",
    "def Empty_B(visited,n):\n",
    "    global x\n",
    "    jug1=visited[n][0]\n",
    "    jug2=0\n",
    "    if [jug1,jug2] not in visited:\n",
    "        visited.append([jug1,jug2])\n",
    "        x=x+1\n",
    "        obj[x]=water()\n",
    "        obj[x].c=jug1\n",
    "        obj[x].d=jug2\n",
    "        obj[x].parent=n\n",
    "\n",
    "\n",
    "def AtoB(visited,n):\n",
    "    global x\n",
    "    a=visited[n][0]\n",
    "    b=visited[n][1]\n",
    "    temp=0\n",
    "    if(a==0):\n",
    "        jug1=0\n",
    "        jug2=b\n",
    "    if(a+b<=4):\n",
    "        jug1=0\n",
    "        jug2=a+b\n",
    "    if(a+b>4):\n",
    "        temp = 4-(a+b)\n",
    "        jug1=abs(temp)\n",
    "        jug2=4\n",
    "    if [jug1,jug2] not in visited:\n",
    "        visited.append([jug1,jug2])\n",
    "        x=x+1\n",
    "        obj[x]=water()\n",
    "        obj[x].c=jug1\n",
    "        obj[x].d=jug2\n",
    "        obj[x].parent=n\n",
    "\n",
    "        \n",
    "def BtoA(visited,n):\n",
    "    global x\n",
    "    a=visited[n][0]\n",
    "    b=visited[n][1]\n",
    "    temp=0\n",
    "    if(a==0):\n",
    "        jug1=a\n",
    "        jug2=0\n",
    "    if(a+b<=3):\n",
    "        jug1=a+b\n",
    "        jug2=0\n",
    "    if(a+b>3):\n",
    "        temp = 3-(a+b)\n",
    "        jug1=3\n",
    "        jug2=abs(temp)\n",
    "    if [jug1,jug2] not in visited:\n",
    "        visited.append([jug1,jug2])\n",
    "        x=x+1\n",
    "        obj[x]=water()\n",
    "        obj[x].c=jug1\n",
    "        obj[x].d=jug2\n",
    "        obj[x].parent=n\n",
    "\n"
   ]
  },
  {
   "cell_type": "code",
   "execution_count": null,
   "metadata": {},
   "outputs": [],
   "source": [
    "x=x+1\n",
    "        obj[x].a=jug1\n",
    "        obj[x].b=jug2\n",
    "        obj[x].parent=n\n"
   ]
  },
  {
   "cell_type": "code",
   "execution_count": null,
   "metadata": {},
   "outputs": [],
   "source": []
  }
 ],
 "metadata": {
  "kernelspec": {
   "display_name": "Python 3",
   "language": "python",
   "name": "python3"
  },
  "language_info": {
   "codemirror_mode": {
    "name": "ipython",
    "version": 3
   },
   "file_extension": ".py",
   "mimetype": "text/x-python",
   "name": "python",
   "nbconvert_exporter": "python",
   "pygments_lexer": "ipython3",
   "version": "3.7.4"
  }
 },
 "nbformat": 4,
 "nbformat_minor": 2
}
